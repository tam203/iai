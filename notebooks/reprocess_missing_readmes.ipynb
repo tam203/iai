{
 "cells": [
  {
   "cell_type": "markdown",
   "metadata": {},
   "source": [
    "# Reprocess Repositories with Missing READMEs\n",
    "\n",
    "This notebook inspects the `gov_repositories_catalog.csv` file to identify and remove entries where the README file could not be fetched (indicated by `\"README not available\"`).\n",
    "\n",
    "By removing these entries, a subsequent run of the `GitHubScanner` will attempt to fetch the READMEs for these repositories again."
   ]
  },
  {
   "cell_type": "code",
   "execution_count": 1,
   "metadata": {},
   "outputs": [],
   "source": [
    "import pandas as pd\n",
    "import os\n",
    "\n",
    "# Define the path to the catalog file. \n",
    "# Using a relative path makes the notebook more portable.\n",
    "catalog_file = '../data/20250624_223620_a910a8e1/gov_repositories_catalog.csv'"
   ]
  },
  {
   "cell_type": "markdown",
   "metadata": {},
   "source": [
    "## 1. Load and Inspect the Data"
   ]
  },
  {
   "cell_type": "code",
   "execution_count": 2,
   "metadata": {},
   "outputs": [
    {
     "name": "stdout",
     "output_type": "stream",
     "text": [
      "Successfully loaded ../data/20250624_223620_a910a8e1/gov_repositories_catalog.csv\n",
      "Total rows: 8707\n",
      "<class 'pandas.core.frame.DataFrame'>\n",
      "RangeIndex: 8707 entries, 0 to 8706\n",
      "Data columns (total 11 columns):\n",
      " #   Column            Non-Null Count  Dtype \n",
      "---  ------            --------------  ----- \n",
      " 0   account           8707 non-null   object\n",
      " 1   name              8707 non-null   object\n",
      " 2   description       8707 non-null   object\n",
      " 3   stars             8707 non-null   int64 \n",
      " 4   forks             8707 non-null   int64 \n",
      " 5   language          8707 non-null   object\n",
      " 6   url               8707 non-null   object\n",
      " 7   readme_snippet    8678 non-null   object\n",
      " 8   last_scanned_utc  8707 non-null   object\n",
      " 9   created_at        8707 non-null   object\n",
      " 10  pushed_at         8707 non-null   object\n",
      "dtypes: int64(2), object(9)\n",
      "memory usage: 748.4+ KB\n"
     ]
    }
   ],
   "source": [
    "if not os.path.exists(catalog_file):\n",
    "    print(f\"Error: Catalog file not found at {catalog_file}\")\n",
    "else:\n",
    "    df = pd.read_csv(catalog_file)\n",
    "    print(f\"Successfully loaded {catalog_file}\")\n",
    "    print(f\"Total rows: {len(df)}\")\n",
    "    df.info()"
   ]
  },
  {
   "cell_type": "markdown",
   "metadata": {},
   "source": [
    "## 2. Identify and Count Repos with Missing READMEs"
   ]
  },
  {
   "cell_type": "code",
   "execution_count": 3,
   "metadata": {},
   "outputs": [
    {
     "name": "stdout",
     "output_type": "stream",
     "text": [
      "Found 0 repositories with 'README not available'.\n",
      "This is 0.00% of the total repositories.\n"
     ]
    }
   ],
   "source": [
    "missing_readme_text = \"README not available\"\n",
    "\n",
    "missing_readme_mask = df['readme_snippet'] == missing_readme_text\n",
    "num_missing = missing_readme_mask.sum()\n",
    "\n",
    "print(f\"Found {num_missing} repositories with 'README not available'.\")\n",
    "if len(df) > 0:\n",
    "    print(f\"This is {num_missing / len(df):.2%} of the total repositories.\")"
   ]
  },
  {
   "cell_type": "code",
   "execution_count": 4,
   "metadata": {},
   "outputs": [
    {
     "name": "stdout",
     "output_type": "stream",
     "text": [
      "No rows found with duplicate 'account' and 'name' combinations.\n",
      "\n",
      "Summary:\n",
      "Total unique 'account' and 'name' combinations: 8707\n",
      "Total rows in the DataFrame: 8707\n"
     ]
    }
   ],
   "source": [
    "\n",
    "# Find rows where the combination of 'account' and 'name' is duplicated.\n",
    "# 'keep=False' marks all occurrences of a duplicate combination as True.\n",
    "duplicate_combinations = df[df.duplicated(subset=['account', 'name'], keep=False)]\n",
    "\n",
    "if not duplicate_combinations.empty:\n",
    "    print(\"Found rows with duplicate 'account' and 'name' combinations:\")\n",
    "    # Using display() for better formatting of DataFrames in Jupyter notebooks\n",
    "    display(duplicate_combinations)\n",
    "    print(f\"\\nTotal number of rows involved in duplicate 'account' and 'name' combinations: {len(duplicate_combinations)}\")\n",
    "else:\n",
    "    print(\"No rows found with duplicate 'account' and 'name' combinations.\")\n",
    "\n",
    "# Optional: Print a summary of unique vs. total rows for context\n",
    "total_unique_combinations = df.drop_duplicates(subset=['account', 'name']).shape[0]\n",
    "print(f\"\\nSummary:\")\n",
    "print(f\"Total unique 'account' and 'name' combinations: {total_unique_combinations}\")\n",
    "print(f\"Total rows in the DataFrame: {df.shape[0]}\")\n",
    "\n",
    "# --- End of new cell content ---\n"
   ]
  },
  {
   "cell_type": "markdown",
   "metadata": {},
   "source": [
    "## 3. Filter Out Rows and Overwrite CSV\n",
    "\n",
    "This step will remove the identified rows from the DataFrame and save the result back to the original CSV file, effectively preparing it for a re-run."
   ]
  },
  {
   "cell_type": "code",
   "execution_count": 4,
   "metadata": {},
   "outputs": [
    {
     "name": "stdout",
     "output_type": "stream",
     "text": [
      "Original number of rows: 9778\n",
      "Number of rows to remove: 1071\n",
      "New number of rows: 8707\n",
      "\n",
      "Successfully removed rows and updated '../data/20250624_223620_a910a8e1/gov_repositories_catalog.csv'.\n"
     ]
    }
   ],
   "source": [
    "if num_missing > 0:\n",
    "    # Keep only the rows where the readme is NOT missing\n",
    "    df_reprocessed = df[~missing_readme_mask]\n",
    "    \n",
    "    print(f\"Original number of rows: {len(df)}\")\n",
    "    print(f\"Number of rows to remove: {num_missing}\")\n",
    "    print(f\"New number of rows: {len(df_reprocessed)}\")\n",
    "    \n",
    "    # Save the reprocessed dataframe back to the original file\n",
    "    df_reprocessed.to_csv(catalog_file, index=False, encoding='utf-8')\n",
    "    \n",
    "    print(f\"\\nSuccessfully removed rows and updated '{catalog_file}'.\")\n",
    "else:\n",
    "    print(\"No rows with 'README not available' to remove.\")"
   ]
  },
  {
   "cell_type": "markdown",
   "metadata": {},
   "source": [
    "## 4. Verification\n",
    "\n",
    "Let's reload the file to confirm that the rows have been removed."
   ]
  },
  {
   "cell_type": "code",
   "execution_count": 5,
   "metadata": {},
   "outputs": [
    {
     "name": "stdout",
     "output_type": "stream",
     "text": [
      "Verification successful: No more rows with 'README not available'.\n",
      "Current total rows: 8707\n"
     ]
    }
   ],
   "source": [
    "df_verify = pd.read_csv(catalog_file)\n",
    "\n",
    "remaining_missing = (df_verify['readme_snippet'] == missing_readme_text).sum()\n",
    "\n",
    "if remaining_missing == 0:\n",
    "    print(\"Verification successful: No more rows with 'README not available'.\")\n",
    "else:\n",
    "    print(f\"Verification FAILED: Found {remaining_missing} rows with 'README not available'.\")\n",
    "\n",
    "print(f\"Current total rows: {len(df_verify)}\")"
   ]
  },
  {
   "cell_type": "code",
   "execution_count": null,
   "metadata": {},
   "outputs": [],
   "source": []
  }
 ],
 "metadata": {
  "kernelspec": {
   "display_name": "iai",
   "language": "python",
   "name": "python3"
  },
  "language_info": {
   "codemirror_mode": {
    "name": "ipython",
    "version": 3
   },
   "file_extension": ".py",
   "mimetype": "text/x-python",
   "name": "python",
   "nbconvert_exporter": "python",
   "pygments_lexer": "ipython3",
   "version": "3.12.9"
  }
 },
 "nbformat": 4,
 "nbformat_minor": 4
}
