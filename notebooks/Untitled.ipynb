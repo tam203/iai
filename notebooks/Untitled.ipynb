{
 "cells": [
  {
   "cell_type": "markdown",
   "id": "cd8b7e72-35e1-4524-92c6-e8b6a5fadc2c",
   "metadata": {},
   "source": [
    "## Analysis\n",
    "\n",
    "Git all the orgs.\n",
    "\n",
    "Filter to the ones provieded and a random selection of other ones.\n",
    "\n"
   ]
  },
  {
   "cell_type": "code",
   "execution_count": 1,
   "id": "22ed367a-ca76-490c-8a97-5b89635da15a",
   "metadata": {},
   "outputs": [],
   "source": [
    "import iai\n",
    "from iai.config import DEFAULT_SEARCH_QUERIES, GITHUB_API_TOKEN\n",
    "from iai import GitHubScanner, generate_run_id"
   ]
  },
  {
   "cell_type": "markdown",
   "id": "4fb8ac75-4eb7-40ee-989b-6d82a6cea1aa",
   "metadata": {},
   "source": [
    "Set up git hub scanner"
   ]
  },
  {
   "cell_type": "code",
   "execution_count": 2,
   "id": "b2316490-b985-46ac-961f-b681d3347b9f",
   "metadata": {},
   "outputs": [],
   "source": [
    "\n",
    "run_id =  generate_run_id()\n",
    "scanner = GitHubScanner(run_id=run_id, api_token=GITHUB_API_TOKEN)"
   ]
  },
  {
   "cell_type": "markdown",
   "id": "92b2ee32-f556-4ae8-88f7-9409e80f9468",
   "metadata": {},
   "source": [
    "Mix explore and exploite. We can't look at everything because of time and request limiuts so we will use our target list but augment with random selection "
   ]
  },
  {
   "cell_type": "code",
   "execution_count": 3,
   "id": "1a519a88-3412-450a-a85f-f56fd02bcb18",
   "metadata": {},
   "outputs": [],
   "source": [
    "import random\n",
    "random_pick = []\n",
    "for country, users in scanner.fetch_gov_github_accounts_yaml(iai.config.GOVERNMENT_ACCOUNTS_URL).items():\n",
    "    random_pick.append(random.choice(users))\n",
    "random_pick\n",
    "iai.config.TARGET_REPOS += random_pick"
   ]
  },
  {
   "cell_type": "code",
   "execution_count": 4,
   "id": "08961315-98e9-4251-84d5-05047942c95a",
   "metadata": {},
   "outputs": [
    {
     "data": {
      "text/plain": [
       "['alphagov',\n",
       " 'i-dot-ai',\n",
       " 'canada-ca',\n",
       " 'govtechsg',\n",
       " 'GSA',\n",
       " 'ec-europa',\n",
       " 'opengovsg',\n",
       " 'municipioriogrande',\n",
       " 'Healthway',\n",
       " 'datagvat',\n",
       " 'onroerenderfgoed',\n",
       " 'geobolivia',\n",
       " 'camaradosdeputadosoficial',\n",
       " 'governmentbg',\n",
       " 'e-Government-Cambodia',\n",
       " 'NRCan',\n",
       " 'e-gob',\n",
       " 'PPSUCers',\n",
       " 'AltaConsejeriaTIC',\n",
       " 'NLCR',\n",
       " 'skat',\n",
       " 'inamhi',\n",
       " 'informationtechnologyinstitute',\n",
       " 'kinnisvara',\n",
       " 'ethiopian',\n",
       " 'ec-europa',\n",
       " 'nlsfi',\n",
       " 'erasme',\n",
       " 'sipf',\n",
       " 'it-at-m',\n",
       " 'minfingt',\n",
       " 'datagovhk',\n",
       " 'fphgov',\n",
       " 'npci',\n",
       " 'bolsel',\n",
       " 'IATI',\n",
       " 'ogcio',\n",
       " 'Isle-Of-Man-Government',\n",
       " 'MohGovIL',\n",
       " 'PloneGov-IT',\n",
       " 'nims-dpfc',\n",
       " 'statesofjersey',\n",
       " 'map-ashi',\n",
       " 'CSBLatvia',\n",
       " 'VMVT-DevHub',\n",
       " 'opendatalu',\n",
       " 'pmo2',\n",
       " 'MUnosecc',\n",
       " 'mxabierto',\n",
       " 'provincieNH',\n",
       " 'docgovtnz',\n",
       " 'Riksrevisjonen',\n",
       " 'IFARHU',\n",
       " 'mecpy',\n",
       " 'imarpe',\n",
       " 'Laoag-City',\n",
       " 'Ministerstwo-Cyfryzacji',\n",
       " 'amagovpt',\n",
       " 'molit-korea',\n",
       " 'govro',\n",
       " 'ghalghai',\n",
       " 'SAS-NCDC',\n",
       " 'dsaidgovsg',\n",
       " 'slovak-egov',\n",
       " 'eddZA',\n",
       " 'GobiernoLaRioja',\n",
       " 'statens-maritima-museer',\n",
       " 'FNSKtZH',\n",
       " 'taipei-doit',\n",
       " 'DGA-Thailand',\n",
       " 'ministryofjustice',\n",
       " 'RoyalBoroughKingston',\n",
       " 'cityofboulder',\n",
       " 'HennepinCountyPublicDefender',\n",
       " 'NMML',\n",
       " 'SanDiegoCountySheriff',\n",
       " 'afseo',\n",
       " 'psrc',\n",
       " 'oimt',\n",
       " 'coquille-indian-tribe',\n",
       " 'openprocurement',\n",
       " 'UNStats',\n",
       " 'CanaimaGNULinux']"
      ]
     },
     "execution_count": 4,
     "metadata": {},
     "output_type": "execute_result"
    }
   ],
   "source": [
    "iai.config.TARGET_REPOS"
   ]
  },
  {
   "cell_type": "markdown",
   "id": "9ab7374a-641b-4ebc-b661-45d764d67a6a",
   "metadata": {},
   "source": [
    "Run the scan"
   ]
  },
  {
   "cell_type": "code",
   "execution_count": null,
   "id": "b38c2773-f472-4c80-bffc-722a6bbd3ea9",
   "metadata": {},
   "outputs": [],
   "source": [
    "gov_catalog_file_path = scanner.scan_and_save_gov_repos_catalog()"
   ]
  },
  {
   "cell_type": "code",
   "execution_count": null,
   "id": "08b8fa0b-9ea4-4afe-912e-df71cf1dd91f",
   "metadata": {},
   "outputs": [],
   "source": [
    "import pandas as pd\n",
    "pd.read_csv(gov_catalog_file_path)"
   ]
  },
  {
   "cell_type": "code",
   "execution_count": null,
   "id": "8c53815f-52b0-4498-95e0-7f6ac54af67c",
   "metadata": {},
   "outputs": [],
   "source": []
  }
 ],
 "metadata": {
  "kernelspec": {
   "display_name": "Python 3 (ipykernel)",
   "language": "python",
   "name": "python3"
  },
  "language_info": {
   "codemirror_mode": {
    "name": "ipython",
    "version": 3
   },
   "file_extension": ".py",
   "mimetype": "text/x-python",
   "name": "python",
   "nbconvert_exporter": "python",
   "pygments_lexer": "ipython3",
   "version": "3.12.9"
  }
 },
 "nbformat": 4,
 "nbformat_minor": 5
}
